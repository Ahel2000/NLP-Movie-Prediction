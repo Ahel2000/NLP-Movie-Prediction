{
 "cells": [
  {
   "cell_type": "code",
   "execution_count": 1,
   "metadata": {},
   "outputs": [],
   "source": [
    "from fastai import *\n",
    "from fastai.collab import *"
   ]
  },
  {
   "cell_type": "code",
   "execution_count": 2,
   "metadata": {},
   "outputs": [],
   "source": [
    "path = untar_data(URLs.ML_SAMPLE)"
   ]
  },
  {
   "cell_type": "code",
   "execution_count": 3,
   "metadata": {},
   "outputs": [],
   "source": [
    "ratings = pd.read_csv(path/'ratings.csv')\n",
    "series2cat(ratings,'userId','movieId')"
   ]
  },
  {
   "cell_type": "code",
   "execution_count": 4,
   "metadata": {},
   "outputs": [],
   "source": [
    "data = CollabDataBunch.from_df(ratings, seed=42)"
   ]
  },
  {
   "cell_type": "code",
   "execution_count": 5,
   "metadata": {},
   "outputs": [],
   "source": [
    "y_range = [0,5.5]"
   ]
  },
  {
   "cell_type": "code",
   "execution_count": 6,
   "metadata": {},
   "outputs": [],
   "source": [
    "learn = collab_learner(data, n_factors=50, y_range=y_range)"
   ]
  },
  {
   "cell_type": "code",
   "execution_count": 7,
   "metadata": {},
   "outputs": [
    {
     "data": {
      "text/html": [
       "Total time: 00:08 <p><table style='width:300px; margin-bottom:10px'>\n",
       "  <tr>\n",
       "    <th>epoch</th>\n",
       "    <th>train_loss</th>\n",
       "    <th>valid_loss</th>\n",
       "  </tr>\n",
       "  <tr>\n",
       "    <th>1</th>\n",
       "    <th>1.768721</th>\n",
       "    <th>1.408982</th>\n",
       "  </tr>\n",
       "  <tr>\n",
       "    <th>2</th>\n",
       "    <th>0.911547</th>\n",
       "    <th>0.678153</th>\n",
       "  </tr>\n",
       "  <tr>\n",
       "    <th>3</th>\n",
       "    <th>0.661305</th>\n",
       "    <th>0.652918</th>\n",
       "  </tr>\n",
       "  <tr>\n",
       "    <th>4</th>\n",
       "    <th>0.572038</th>\n",
       "    <th>0.649247</th>\n",
       "  </tr>\n",
       "</table>\n"
      ],
      "text/plain": [
       "<IPython.core.display.HTML object>"
      ]
     },
     "metadata": {},
     "output_type": "display_data"
    }
   ],
   "source": [
    "learn.fit_one_cycle(4, 5e-3)"
   ]
  },
  {
   "cell_type": "code",
   "execution_count": 16,
   "metadata": {},
   "outputs": [],
   "source": [
    "user,item,title = 'userId','movieId','title'"
   ]
  },
  {
   "cell_type": "code",
   "execution_count": 17,
   "metadata": {},
   "outputs": [],
   "source": [
    "path = Config.data_path()/'ml-100k'"
   ]
  },
  {
   "cell_type": "code",
   "execution_count": 18,
   "metadata": {
    "scrolled": true
   },
   "outputs": [
    {
     "data": {
      "text/html": [
       "<div>\n",
       "<style scoped>\n",
       "    .dataframe tbody tr th:only-of-type {\n",
       "        vertical-align: middle;\n",
       "    }\n",
       "\n",
       "    .dataframe tbody tr th {\n",
       "        vertical-align: top;\n",
       "    }\n",
       "\n",
       "    .dataframe thead th {\n",
       "        text-align: right;\n",
       "    }\n",
       "</style>\n",
       "<table border=\"1\" class=\"dataframe\">\n",
       "  <thead>\n",
       "    <tr style=\"text-align: right;\">\n",
       "      <th></th>\n",
       "      <th>userId</th>\n",
       "      <th>movieId</th>\n",
       "      <th>rating</th>\n",
       "      <th>timestamp</th>\n",
       "    </tr>\n",
       "  </thead>\n",
       "  <tbody>\n",
       "    <tr>\n",
       "      <th>0</th>\n",
       "      <td>196</td>\n",
       "      <td>242</td>\n",
       "      <td>3</td>\n",
       "      <td>881250949</td>\n",
       "    </tr>\n",
       "    <tr>\n",
       "      <th>1</th>\n",
       "      <td>186</td>\n",
       "      <td>302</td>\n",
       "      <td>3</td>\n",
       "      <td>891717742</td>\n",
       "    </tr>\n",
       "    <tr>\n",
       "      <th>2</th>\n",
       "      <td>22</td>\n",
       "      <td>377</td>\n",
       "      <td>1</td>\n",
       "      <td>878887116</td>\n",
       "    </tr>\n",
       "    <tr>\n",
       "      <th>3</th>\n",
       "      <td>244</td>\n",
       "      <td>51</td>\n",
       "      <td>2</td>\n",
       "      <td>880606923</td>\n",
       "    </tr>\n",
       "    <tr>\n",
       "      <th>4</th>\n",
       "      <td>166</td>\n",
       "      <td>346</td>\n",
       "      <td>1</td>\n",
       "      <td>886397596</td>\n",
       "    </tr>\n",
       "  </tbody>\n",
       "</table>\n",
       "</div>"
      ],
      "text/plain": [
       "   userId  movieId  rating  timestamp\n",
       "0     196      242       3  881250949\n",
       "1     186      302       3  891717742\n",
       "2      22      377       1  878887116\n",
       "3     244       51       2  880606923\n",
       "4     166      346       1  886397596"
      ]
     },
     "execution_count": 18,
     "metadata": {},
     "output_type": "execute_result"
    }
   ],
   "source": [
    "ratings = pd.read_csv(path/'u.data', delimiter='\\t', header=None,\n",
    "                      names=[user,item,'rating','timestamp'])\n",
    "ratings.head()"
   ]
  },
  {
   "cell_type": "code",
   "execution_count": 35,
   "metadata": {},
   "outputs": [],
   "source": [
    "movies = pd.read_csv(path/'u.item',delimiter='|',encoding='latin-1',header=None,\n",
    "                     names=[item, 'title', 'date', 'N', 'url', *[f'g{i}' for i in range(19)]])"
   ]
  },
  {
   "cell_type": "code",
   "execution_count": 36,
   "metadata": {},
   "outputs": [
    {
     "data": {
      "text/html": [
       "<div>\n",
       "<style scoped>\n",
       "    .dataframe tbody tr th:only-of-type {\n",
       "        vertical-align: middle;\n",
       "    }\n",
       "\n",
       "    .dataframe tbody tr th {\n",
       "        vertical-align: top;\n",
       "    }\n",
       "\n",
       "    .dataframe thead th {\n",
       "        text-align: right;\n",
       "    }\n",
       "</style>\n",
       "<table border=\"1\" class=\"dataframe\">\n",
       "  <thead>\n",
       "    <tr style=\"text-align: right;\">\n",
       "      <th></th>\n",
       "      <th>movieId</th>\n",
       "      <th>title</th>\n",
       "      <th>date</th>\n",
       "      <th>N</th>\n",
       "      <th>url</th>\n",
       "      <th>g0</th>\n",
       "      <th>g1</th>\n",
       "      <th>g2</th>\n",
       "      <th>g3</th>\n",
       "      <th>g4</th>\n",
       "      <th>...</th>\n",
       "      <th>g9</th>\n",
       "      <th>g10</th>\n",
       "      <th>g11</th>\n",
       "      <th>g12</th>\n",
       "      <th>g13</th>\n",
       "      <th>g14</th>\n",
       "      <th>g15</th>\n",
       "      <th>g16</th>\n",
       "      <th>g17</th>\n",
       "      <th>g18</th>\n",
       "    </tr>\n",
       "  </thead>\n",
       "  <tbody>\n",
       "    <tr>\n",
       "      <th>0</th>\n",
       "      <td>1</td>\n",
       "      <td>Toy Story (1995)</td>\n",
       "      <td>01-Jan-1995</td>\n",
       "      <td>NaN</td>\n",
       "      <td>http://us.imdb.com/M/title-exact?Toy%20Story%2...</td>\n",
       "      <td>0</td>\n",
       "      <td>0</td>\n",
       "      <td>0</td>\n",
       "      <td>1</td>\n",
       "      <td>1</td>\n",
       "      <td>...</td>\n",
       "      <td>0</td>\n",
       "      <td>0</td>\n",
       "      <td>0</td>\n",
       "      <td>0</td>\n",
       "      <td>0</td>\n",
       "      <td>0</td>\n",
       "      <td>0</td>\n",
       "      <td>0</td>\n",
       "      <td>0</td>\n",
       "      <td>0</td>\n",
       "    </tr>\n",
       "    <tr>\n",
       "      <th>1</th>\n",
       "      <td>2</td>\n",
       "      <td>GoldenEye (1995)</td>\n",
       "      <td>01-Jan-1995</td>\n",
       "      <td>NaN</td>\n",
       "      <td>http://us.imdb.com/M/title-exact?GoldenEye%20(...</td>\n",
       "      <td>0</td>\n",
       "      <td>1</td>\n",
       "      <td>1</td>\n",
       "      <td>0</td>\n",
       "      <td>0</td>\n",
       "      <td>...</td>\n",
       "      <td>0</td>\n",
       "      <td>0</td>\n",
       "      <td>0</td>\n",
       "      <td>0</td>\n",
       "      <td>0</td>\n",
       "      <td>0</td>\n",
       "      <td>0</td>\n",
       "      <td>1</td>\n",
       "      <td>0</td>\n",
       "      <td>0</td>\n",
       "    </tr>\n",
       "    <tr>\n",
       "      <th>2</th>\n",
       "      <td>3</td>\n",
       "      <td>Four Rooms (1995)</td>\n",
       "      <td>01-Jan-1995</td>\n",
       "      <td>NaN</td>\n",
       "      <td>http://us.imdb.com/M/title-exact?Four%20Rooms%...</td>\n",
       "      <td>0</td>\n",
       "      <td>0</td>\n",
       "      <td>0</td>\n",
       "      <td>0</td>\n",
       "      <td>0</td>\n",
       "      <td>...</td>\n",
       "      <td>0</td>\n",
       "      <td>0</td>\n",
       "      <td>0</td>\n",
       "      <td>0</td>\n",
       "      <td>0</td>\n",
       "      <td>0</td>\n",
       "      <td>0</td>\n",
       "      <td>1</td>\n",
       "      <td>0</td>\n",
       "      <td>0</td>\n",
       "    </tr>\n",
       "    <tr>\n",
       "      <th>3</th>\n",
       "      <td>4</td>\n",
       "      <td>Get Shorty (1995)</td>\n",
       "      <td>01-Jan-1995</td>\n",
       "      <td>NaN</td>\n",
       "      <td>http://us.imdb.com/M/title-exact?Get%20Shorty%...</td>\n",
       "      <td>0</td>\n",
       "      <td>1</td>\n",
       "      <td>0</td>\n",
       "      <td>0</td>\n",
       "      <td>0</td>\n",
       "      <td>...</td>\n",
       "      <td>0</td>\n",
       "      <td>0</td>\n",
       "      <td>0</td>\n",
       "      <td>0</td>\n",
       "      <td>0</td>\n",
       "      <td>0</td>\n",
       "      <td>0</td>\n",
       "      <td>0</td>\n",
       "      <td>0</td>\n",
       "      <td>0</td>\n",
       "    </tr>\n",
       "    <tr>\n",
       "      <th>4</th>\n",
       "      <td>5</td>\n",
       "      <td>Copycat (1995)</td>\n",
       "      <td>01-Jan-1995</td>\n",
       "      <td>NaN</td>\n",
       "      <td>http://us.imdb.com/M/title-exact?Copycat%20(1995)</td>\n",
       "      <td>0</td>\n",
       "      <td>0</td>\n",
       "      <td>0</td>\n",
       "      <td>0</td>\n",
       "      <td>0</td>\n",
       "      <td>...</td>\n",
       "      <td>0</td>\n",
       "      <td>0</td>\n",
       "      <td>0</td>\n",
       "      <td>0</td>\n",
       "      <td>0</td>\n",
       "      <td>0</td>\n",
       "      <td>0</td>\n",
       "      <td>1</td>\n",
       "      <td>0</td>\n",
       "      <td>0</td>\n",
       "    </tr>\n",
       "  </tbody>\n",
       "</table>\n",
       "<p>5 rows × 24 columns</p>\n",
       "</div>"
      ],
      "text/plain": [
       "   movieId              title         date   N  \\\n",
       "0        1   Toy Story (1995)  01-Jan-1995 NaN   \n",
       "1        2   GoldenEye (1995)  01-Jan-1995 NaN   \n",
       "2        3  Four Rooms (1995)  01-Jan-1995 NaN   \n",
       "3        4  Get Shorty (1995)  01-Jan-1995 NaN   \n",
       "4        5     Copycat (1995)  01-Jan-1995 NaN   \n",
       "\n",
       "                                                 url  g0  g1  g2  g3  g4 ...   \\\n",
       "0  http://us.imdb.com/M/title-exact?Toy%20Story%2...   0   0   0   1   1 ...    \n",
       "1  http://us.imdb.com/M/title-exact?GoldenEye%20(...   0   1   1   0   0 ...    \n",
       "2  http://us.imdb.com/M/title-exact?Four%20Rooms%...   0   0   0   0   0 ...    \n",
       "3  http://us.imdb.com/M/title-exact?Get%20Shorty%...   0   1   0   0   0 ...    \n",
       "4  http://us.imdb.com/M/title-exact?Copycat%20(1995)   0   0   0   0   0 ...    \n",
       "\n",
       "   g9  g10  g11  g12  g13  g14  g15  g16  g17  g18  \n",
       "0   0    0    0    0    0    0    0    0    0    0  \n",
       "1   0    0    0    0    0    0    0    1    0    0  \n",
       "2   0    0    0    0    0    0    0    1    0    0  \n",
       "3   0    0    0    0    0    0    0    0    0    0  \n",
       "4   0    0    0    0    0    0    0    1    0    0  \n",
       "\n",
       "[5 rows x 24 columns]"
      ]
     },
     "execution_count": 36,
     "metadata": {},
     "output_type": "execute_result"
    }
   ],
   "source": [
    "movies.head()"
   ]
  },
  {
   "cell_type": "code",
   "execution_count": 38,
   "metadata": {},
   "outputs": [],
   "source": [
    "rating_movies = ratings.merge(movies[[item,title]])"
   ]
  },
  {
   "cell_type": "code",
   "execution_count": 40,
   "metadata": {},
   "outputs": [
    {
     "data": {
      "text/html": [
       "<div>\n",
       "<style scoped>\n",
       "    .dataframe tbody tr th:only-of-type {\n",
       "        vertical-align: middle;\n",
       "    }\n",
       "\n",
       "    .dataframe tbody tr th {\n",
       "        vertical-align: top;\n",
       "    }\n",
       "\n",
       "    .dataframe thead th {\n",
       "        text-align: right;\n",
       "    }\n",
       "</style>\n",
       "<table border=\"1\" class=\"dataframe\">\n",
       "  <thead>\n",
       "    <tr style=\"text-align: right;\">\n",
       "      <th></th>\n",
       "      <th>userId</th>\n",
       "      <th>movieId</th>\n",
       "      <th>rating</th>\n",
       "      <th>timestamp</th>\n",
       "      <th>title</th>\n",
       "    </tr>\n",
       "  </thead>\n",
       "  <tbody>\n",
       "    <tr>\n",
       "      <th>0</th>\n",
       "      <td>196</td>\n",
       "      <td>242</td>\n",
       "      <td>3</td>\n",
       "      <td>881250949</td>\n",
       "      <td>Kolya (1996)</td>\n",
       "    </tr>\n",
       "    <tr>\n",
       "      <th>1</th>\n",
       "      <td>63</td>\n",
       "      <td>242</td>\n",
       "      <td>3</td>\n",
       "      <td>875747190</td>\n",
       "      <td>Kolya (1996)</td>\n",
       "    </tr>\n",
       "    <tr>\n",
       "      <th>2</th>\n",
       "      <td>226</td>\n",
       "      <td>242</td>\n",
       "      <td>5</td>\n",
       "      <td>883888671</td>\n",
       "      <td>Kolya (1996)</td>\n",
       "    </tr>\n",
       "    <tr>\n",
       "      <th>3</th>\n",
       "      <td>154</td>\n",
       "      <td>242</td>\n",
       "      <td>3</td>\n",
       "      <td>879138235</td>\n",
       "      <td>Kolya (1996)</td>\n",
       "    </tr>\n",
       "    <tr>\n",
       "      <th>4</th>\n",
       "      <td>306</td>\n",
       "      <td>242</td>\n",
       "      <td>5</td>\n",
       "      <td>876503793</td>\n",
       "      <td>Kolya (1996)</td>\n",
       "    </tr>\n",
       "  </tbody>\n",
       "</table>\n",
       "</div>"
      ],
      "text/plain": [
       "   userId  movieId  rating  timestamp         title\n",
       "0     196      242       3  881250949  Kolya (1996)\n",
       "1      63      242       3  875747190  Kolya (1996)\n",
       "2     226      242       5  883888671  Kolya (1996)\n",
       "3     154      242       3  879138235  Kolya (1996)\n",
       "4     306      242       5  876503793  Kolya (1996)"
      ]
     },
     "execution_count": 40,
     "metadata": {},
     "output_type": "execute_result"
    }
   ],
   "source": [
    "rating_movies.head()"
   ]
  },
  {
   "cell_type": "code",
   "execution_count": 42,
   "metadata": {},
   "outputs": [],
   "source": [
    "data = CollabDataBunch.from_df(rating_movies, seed=42, pct_val=0.1, item_name=title)"
   ]
  },
  {
   "cell_type": "code",
   "execution_count": 46,
   "metadata": {},
   "outputs": [],
   "source": [
    "y_range = [0,5.5]"
   ]
  },
  {
   "cell_type": "code",
   "execution_count": 47,
   "metadata": {},
   "outputs": [],
   "source": [
    "learn = collab_learner(data,n_factors=40,y_range=y_range,wd=1e-1)"
   ]
  },
  {
   "cell_type": "code",
   "execution_count": 52,
   "metadata": {},
   "outputs": [
    {
     "name": "stdout",
     "output_type": "stream",
     "text": [
      "LR Finder is complete, type {learner_name}.recorder.plot() to see the graph.\n"
     ]
    }
   ],
   "source": [
    "learn.lr_find()"
   ]
  },
  {
   "cell_type": "code",
   "execution_count": 53,
   "metadata": {},
   "outputs": [
    {
     "data": {
      "image/png": "[encoded data removed]",
      "text/plain": [
       "<Figure size 432x288 with 1 Axes>"
      ]
     },
     "metadata": {
      "needs_background": "light"
     },
     "output_type": "display_data"
    }
   ],
   "source": [
    "learn.recorder.plot(skip_end=15)"
   ]
  },
  {
   "cell_type": "code",
   "execution_count": 54,
   "metadata": {},
   "outputs": [
    {
     "data": {
      "text/html": [
       "Total time: 02:09 <p><table style='width:300px; margin-bottom:10px'>\n",
       "  <tr>\n",
       "    <th>epoch</th>\n",
       "    <th>train_loss</th>\n",
       "    <th>valid_loss</th>\n",
       "  </tr>\n",
       "  <tr>\n",
       "    <th>1</th>\n",
       "    <th>0.914068</th>\n",
       "    <th>0.939192</th>\n",
       "  </tr>\n",
       "  <tr>\n",
       "    <th>2</th>\n",
       "    <th>0.864281</th>\n",
       "    <th>0.885451</th>\n",
       "  </tr>\n",
       "  <tr>\n",
       "    <th>3</th>\n",
       "    <th>0.765414</th>\n",
       "    <th>0.836149</th>\n",
       "  </tr>\n",
       "  <tr>\n",
       "    <th>4</th>\n",
       "    <th>0.627735</th>\n",
       "    <th>0.818465</th>\n",
       "  </tr>\n",
       "  <tr>\n",
       "    <th>5</th>\n",
       "    <th>0.580063</th>\n",
       "    <th>0.817320</th>\n",
       "  </tr>\n",
       "</table>\n"
      ],
      "text/plain": [
       "<IPython.core.display.HTML object>"
      ]
     },
     "metadata": {},
     "output_type": "display_data"
    }
   ],
   "source": [
    "learn.fit_one_cycle(5,5e-3)"
   ]
  },
  {
   "cell_type": "code",
   "execution_count": 67,
   "metadata": {},
   "outputs": [],
   "source": [
    "learn.save('proasdd')"
   ]
  },
  {
   "cell_type": "code",
   "execution_count": 60,
   "metadata": {},
   "outputs": [],
   "source": [
    "g = rating_movies.groupby(title)['rating'].count()"
   ]
  },
  {
   "cell_type": "code",
   "execution_count": 62,
   "metadata": {},
   "outputs": [],
   "source": [
    "top_movies = g.sort_values(ascending=False).index.values[:1000]"
   ]
  },
  {
   "cell_type": "code",
   "execution_count": 69,
   "metadata": {},
   "outputs": [],
   "source": [
    "movie_bias = learn.bias(top_movies,is_item=True)"
   ]
  },
  {
   "cell_type": "code",
   "execution_count": 79,
   "metadata": {},
   "outputs": [],
   "source": [
    "rating_mean = rating_movies.groupby(title)['rating'].mean()\n",
    "movie_rating = [(b,i,rating_mean.loc[i]) for i,b in zip(top_movies,movie_bias)]"
   ]
  },
  {
   "cell_type": "code",
   "execution_count": 81,
   "metadata": {},
   "outputs": [],
   "source": [
    "item0 = lambda o:o[0]"
   ]
  },
  {
   "cell_type": "code",
   "execution_count": 84,
   "metadata": {},
   "outputs": [
    {
     "data": {
      "text/plain": [
       "[(tensor(-0.3720),\n",
       "  'Children of the Corn: The Gathering (1996)',\n",
       "  1.3157894736842106),\n",
       " (tensor(-0.3370),\n",
       "  'Lawnmower Man 2: Beyond Cyberspace (1996)',\n",
       "  1.7142857142857142),\n",
       " (tensor(-0.3154), 'Mortal Kombat: Annihilation (1997)', 1.9534883720930232),\n",
       " (tensor(-0.2972), 'Striptease (1996)', 2.2388059701492535),\n",
       " (tensor(-0.2445), 'Cable Guy, The (1996)', 2.339622641509434),\n",
       " (tensor(-0.2364), 'Barb Wire (1996)', 1.9333333333333333),\n",
       " (tensor(-0.2344), \"Joe's Apartment (1996)\", 2.2444444444444445),\n",
       " (tensor(-0.2278), 'Leave It to Beaver (1997)', 1.8409090909090908),\n",
       " (tensor(-0.2268), 'Crow: City of Angels, The (1996)', 1.9487179487179487),\n",
       " (tensor(-0.2239), 'Bio-Dome (1996)', 1.903225806451613),\n",
       " (tensor(-0.2235), 'Free Willy 3: The Rescue (1997)', 1.7407407407407407),\n",
       " (tensor(-0.2189), 'Showgirls (1995)', 1.9565217391304348),\n",
       " (tensor(-0.2171), 'Grease 2 (1982)', 2.0),\n",
       " (tensor(-0.2104), 'Beverly Hills Ninja (1997)', 2.3125),\n",
       " (tensor(-0.2069), 'Beautician and the Beast, The (1997)', 2.313953488372093)]"
      ]
     },
     "execution_count": 84,
     "metadata": {},
     "output_type": "execute_result"
    }
   ],
   "source": [
    "sorted(movie_rating, key=item0)[:15]"
   ]
  },
  {
   "cell_type": "code",
   "execution_count": 85,
   "metadata": {},
   "outputs": [
    {
     "data": {
      "text/plain": [
       "[(tensor(0.6361), \"Schindler's List (1993)\", 4.466442953020135),\n",
       " (tensor(0.5821), 'Shawshank Redemption, The (1994)', 4.445229681978798),\n",
       " (tensor(0.5581), 'Rear Window (1954)', 4.3875598086124405),\n",
       " (tensor(0.5473), 'L.A. Confidential (1997)', 4.161616161616162),\n",
       " (tensor(0.5458), 'Silence of the Lambs, The (1991)', 4.28974358974359),\n",
       " (tensor(0.5411), 'Star Wars (1977)', 4.3584905660377355),\n",
       " (tensor(0.5405), 'Titanic (1997)', 4.2457142857142856),\n",
       " (tensor(0.5015), 'Apt Pupil (1998)', 4.1),\n",
       " (tensor(0.5000), 'As Good As It Gets (1997)', 4.196428571428571),\n",
       " (tensor(0.4989), 'Godfather, The (1972)', 4.283292978208232),\n",
       " (tensor(0.4856), 'Casablanca (1942)', 4.45679012345679),\n",
       " (tensor(0.4789), 'Boot, Das (1981)', 4.203980099502488),\n",
       " (tensor(0.4701), 'Good Will Hunting (1997)', 4.262626262626263),\n",
       " (tensor(0.4654), 'Close Shave, A (1995)', 4.491071428571429),\n",
       " (tensor(0.4632), 'Usual Suspects, The (1995)', 4.385767790262173)]"
      ]
     },
     "execution_count": 85,
     "metadata": {},
     "output_type": "execute_result"
    }
   ],
   "source": [
    "sorted(movie_rating, key=item0,reverse=True)[:15]"
   ]
  },
  {
   "cell_type": "code",
   "execution_count": 92,
   "metadata": {},
   "outputs": [],
   "source": [
    "movie_weights = learn.weight(top_movies, is_item=True)\n",
    "movie_pca = movie_weights.pca(3)"
   ]
  },
  {
   "cell_type": "code",
   "execution_count": 95,
   "metadata": {},
   "outputs": [],
   "source": [
    "fac0,fac1,fac2 = movie_pca.t()\n",
    "movie_comp = [(f, i) for f,i in zip(fac0, top_movies)]"
   ]
  },
  {
   "cell_type": "code",
   "execution_count": 103,
   "metadata": {},
   "outputs": [
    {
     "data": {
      "text/plain": [
       "[(tensor(1.0621), 'Wrong Trousers, The (1993)'),\n",
       " (tensor(1.0533), 'Casablanca (1942)'),\n",
       " (tensor(1.0342), 'Close Shave, A (1995)'),\n",
       " (tensor(1.0139), 'When We Were Kings (1996)'),\n",
       " (tensor(0.9959), 'Lawrence of Arabia (1962)'),\n",
       " (tensor(0.9796), 'Citizen Kane (1941)'),\n",
       " (tensor(0.9578), 'Chinatown (1974)'),\n",
       " (tensor(0.9405), 'Secrets & Lies (1996)'),\n",
       " (tensor(0.9402), '12 Angry Men (1957)'),\n",
       " (tensor(0.9349),\n",
       "  'Dr. Strangelove or: How I Learned to Stop Worrying and Love the Bomb (1963)')]"
      ]
     },
     "execution_count": 103,
     "metadata": {},
     "output_type": "execute_result"
    }
   ],
   "source": [
    "sorted(movie_comp, key=itemgetter(0), reverse=True)[:10]"
   ]
  },
  {
   "cell_type": "code",
   "execution_count": 104,
   "metadata": {},
   "outputs": [
    {
     "data": {
      "text/plain": [
       "[(tensor(-1.3477), \"McHale's Navy (1997)\"),\n",
       " (tensor(-1.2797), 'Jungle2Jungle (1997)'),\n",
       " (tensor(-1.2658), 'Home Alone 3 (1997)'),\n",
       " (tensor(-1.2203), 'D3: The Mighty Ducks (1996)'),\n",
       " (tensor(-1.1729), 'Congo (1995)'),\n",
       " (tensor(-1.1387), 'Leave It to Beaver (1997)'),\n",
       " (tensor(-1.1194), 'Flipper (1996)'),\n",
       " (tensor(-1.0985), 'Children of the Corn: The Gathering (1996)'),\n",
       " (tensor(-1.0929), 'Bio-Dome (1996)'),\n",
       " (tensor(-1.0762), 'Grease 2 (1982)')]"
      ]
     },
     "execution_count": 104,
     "metadata": {},
     "output_type": "execute_result"
    }
   ],
   "source": [
    "sorted(movie_comp, key=itemgetter(0))[:10]"
   ]
  },
  {
   "cell_type": "code",
   "execution_count": 105,
   "metadata": {},
   "outputs": [],
   "source": [
    "movie_comp = [(f, i) for f,i in zip(fac1, top_movies)]"
   ]
  },
  {
   "cell_type": "code",
   "execution_count": 106,
   "metadata": {},
   "outputs": [
    {
     "data": {
      "text/plain": [
       "[(tensor(1.2417), 'Braveheart (1995)'),\n",
       " (tensor(1.1200), 'Titanic (1997)'),\n",
       " (tensor(1.1002), 'Raiders of the Lost Ark (1981)'),\n",
       " (tensor(0.9872), \"It's a Wonderful Life (1946)\"),\n",
       " (tensor(0.9143), 'Forrest Gump (1994)'),\n",
       " (tensor(0.8806), 'Hunt for Red October, The (1990)'),\n",
       " (tensor(0.8757), 'Independence Day (ID4) (1996)'),\n",
       " (tensor(0.8539), 'Pretty Woman (1990)'),\n",
       " (tensor(0.8347), \"Mr. Holland's Opus (1995)\"),\n",
       " (tensor(0.8308), 'American President, The (1995)')]"
      ]
     },
     "execution_count": 106,
     "metadata": {},
     "output_type": "execute_result"
    }
   ],
   "source": [
    "sorted(movie_comp, key=itemgetter(0), reverse=True)[:10]"
   ]
  },
  {
   "cell_type": "code",
   "execution_count": 107,
   "metadata": {},
   "outputs": [
    {
     "data": {
      "text/plain": [
       "[(tensor(-0.8464), 'Ready to Wear (Pret-A-Porter) (1994)'),\n",
       " (tensor(-0.8051), 'Brazil (1985)'),\n",
       " (tensor(-0.7912), 'Trainspotting (1996)'),\n",
       " (tensor(-0.7835), 'Sweet Hereafter, The (1997)'),\n",
       " (tensor(-0.7604), 'Stupids, The (1996)'),\n",
       " (tensor(-0.7558), 'Keys to Tulsa (1997)'),\n",
       " (tensor(-0.7446), 'Beavis and Butt-head Do America (1996)'),\n",
       " (tensor(-0.7311), 'Cable Guy, The (1996)'),\n",
       " (tensor(-0.7278), 'Nosferatu (Nosferatu, eine Symphonie des Grauens) (1922)'),\n",
       " (tensor(-0.7222), 'Dead Man (1995)')]"
      ]
     },
     "execution_count": 107,
     "metadata": {},
     "output_type": "execute_result"
    }
   ],
   "source": [
    "sorted(movie_comp, key=itemgetter(0))[:10]"
   ]
  },
  {
   "cell_type": "code",
   "execution_count": 115,
   "metadata": {},
   "outputs": [
    {
     "data": {
      "image/png": "[encoded data removed]",
      "text/plain": [
       "<Figure size 1080x1080 with 1 Axes>"
      ]
     },
     "metadata": {
      "needs_background": "light"
     },
     "output_type": "display_data"
    }
   ],
   "source": [
    "idxs = np.random.choice(len(top_movies), 50, replace=False)\n",
    "idxs = list(range(50))\n",
    "X = fac0[idxs]\n",
    "Y = fac2[idxs]\n",
    "plt.figure(figsize=(15,15))\n",
    "plt.scatter(X, Y)\n",
    "for i, x, y in zip(top_movies[idxs], X, Y):\n",
    "    plt.text(x,y,i, color=np.random.rand(3)*0.7, fontsize=11)\n",
    "plt.show()"
   ]
  },
  {
   "cell_type": "code",
   "execution_count": null,
   "metadata": {},
   "outputs": [],
   "source": []
  },
  {
   "cell_type": "code",
   "execution_count": null,
   "metadata": {},
   "outputs": [],
   "source": []
  }
 ],
 "metadata": {
  "kernelspec": {
   "display_name": "Python 3",
   "language": "python",
   "name": "python3"
  },
  "language_info": {
   "codemirror_mode": {
    "name": "ipython",
    "version": 3
   },
   "file_extension": ".py",
   "mimetype": "text/x-python",
   "name": "python",
   "nbconvert_exporter": "python",
   "pygments_lexer": "ipython3",
   "version": "3.7.1"
  }
 },
 "nbformat": 4,
 "nbformat_minor": 2
}
